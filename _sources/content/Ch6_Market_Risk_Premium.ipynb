{
 "cells": [
  {
   "cell_type": "markdown",
   "metadata": {},
   "source": [
    "# Ch6: Market Risk Premium"
   ]
  },
  {
   "cell_type": "markdown",
   "metadata": {},
   "source": [
    "* Single Investment\n",
    "* Multiple Investments, a \"Market\" where you can buy and sell\n",
    "* Each investment payoff broken into sub components\n",
    "  * The shared payout\n",
    "  * Individual Payout\n",
    "* Now change it so that there are different types of bets: each having different exposures to the shared payout and different probabilities for its individual payout.\n",
    "* Introduce the same concepts on a continuous, instead of discrete framework\n",
    "* Compare to Stock Market Risk premium\n",
    "* Time horizon?"
   ]
  },
  {
   "cell_type": "code",
   "execution_count": 1,
   "metadata": {},
   "outputs": [],
   "source": [
    "import numpy as np\n",
    "import pandas as pd\n",
    "from matplotlib import pyplot as plt\n",
    "\n",
    "rng = np.random.default_rng()\n",
    "np.random.seed(42)\n"
   ]
  },
  {
   "cell_type": "markdown",
   "metadata": {},
   "source": [
    "You are offered the opportunity to buy into a bet on a coin toss with two possible payoffs: heads, you are paid $150, tails, you are paid $50. How much would you be willing to pay to participate in this bet?\n",
    "\n",
    "I would argue that there is no obvious answer and in fact no \"right\" answer. It clearly depends on your personal preferences, but perhaps we can build a framework for how one could think about this opportunity. The first step is to establish the *bounds* for the bet: what is the least you would be willing to pay and the most. The least you would be willing to pay is $50 because you are guaranteed to win at least this much and the maximum you would be willing to pay is $150 because this is the most you could possibly win. Unfortunately, there is still a rather large gap of uncertainty regarding the amount to pay. \n",
    "\n",
    "Most people who have taken a basic stats course will find themselves instinctually drawn towards the mean in answer to the amount they would pay. The mean or average is ubiquitous. We see it everywhere and it is the default metric you will hear for just about any situation where numerical justification is put forth.  But what is the mean actually telling us and is it a justifiable answer for our specific scenario?\n",
    "\n",
    "\n",
    "The mean or \"expected value\" simply tells us what the long term average of a particular even is and is given by the formula:\n",
    "\n",
    "$$\n",
    "E(X) = \\sum_{i=0}^n x_iP(x_i)\n",
    "$$\n",
    "\n",
    "For the bet in question, the expected value is:\n",
    "     $$.5*150 +.5*50 = 100$$\n",
    "\n",
    "What is this telling us? That if we were able to make this bet repeatedly, our average payoff would approach 100."
   ]
  },
  {
   "cell_type": "code",
   "execution_count": 2,
   "metadata": {},
   "outputs": [],
   "source": [
    "df = pd.DataFrame()\n",
    "number_of_bets = 1_000_000\n",
    "# payouts = [150 if x >= .5 else 50 for x in rng.random(number_of_bets)]\n",
    "# np.mean(payouts)\n",
    "\n",
    "df['payouts'] = [150 if x >= .5 else 50 for x in rng.random(number_of_bets)]\n",
    "df['cum_mean'] = np.cumsum(df['payouts'])/range(1, number_of_bets+1)\n",
    "# plt.plot(df['cum_mean'])\n"
   ]
  },
  {
   "cell_type": "markdown",
   "metadata": {},
   "source": [
    "That is certainly interesting, but does it help us make a decision in this particular bet right now? Keeping in mind that we are not making this bet an infinite amount of times, but only once."
   ]
  },
  {
   "cell_type": "markdown",
   "metadata": {},
   "source": [
    "I think a reasonable starting point is for you to say that for each one you would be willing to pay the Expected Value:\n",
    "$E(Bet) = 100$\n",
    "\n"
   ]
  },
  {
   "cell_type": "code",
   "execution_count": 3,
   "metadata": {},
   "outputs": [
    {
     "data": {
      "text/html": [
       "<div>\n",
       "<style scoped>\n",
       "    .dataframe tbody tr th:only-of-type {\n",
       "        vertical-align: middle;\n",
       "    }\n",
       "\n",
       "    .dataframe tbody tr th {\n",
       "        vertical-align: top;\n",
       "    }\n",
       "\n",
       "    .dataframe thead th {\n",
       "        text-align: right;\n",
       "    }\n",
       "</style>\n",
       "<table border=\"1\" class=\"dataframe\">\n",
       "  <thead>\n",
       "    <tr style=\"text-align: right;\">\n",
       "      <th></th>\n",
       "      <th>payout</th>\n",
       "      <th>profit</th>\n",
       "    </tr>\n",
       "  </thead>\n",
       "  <tbody>\n",
       "    <tr>\n",
       "      <th>0</th>\n",
       "      <td>150</td>\n",
       "      <td>52</td>\n",
       "    </tr>\n",
       "    <tr>\n",
       "      <th>1</th>\n",
       "      <td>150</td>\n",
       "      <td>52</td>\n",
       "    </tr>\n",
       "    <tr>\n",
       "      <th>2</th>\n",
       "      <td>150</td>\n",
       "      <td>52</td>\n",
       "    </tr>\n",
       "    <tr>\n",
       "      <th>3</th>\n",
       "      <td>50</td>\n",
       "      <td>-48</td>\n",
       "    </tr>\n",
       "    <tr>\n",
       "      <th>4</th>\n",
       "      <td>50</td>\n",
       "      <td>-48</td>\n",
       "    </tr>\n",
       "  </tbody>\n",
       "</table>\n",
       "</div>"
      ],
      "text/plain": [
       "   payout  profit\n",
       "0     150      52\n",
       "1     150      52\n",
       "2     150      52\n",
       "3      50     -48\n",
       "4      50     -48"
      ]
     },
     "execution_count": 3,
     "metadata": {},
     "output_type": "execute_result"
    }
   ],
   "source": [
    "number_bets = 100\n",
    "bet_cost = 98\n",
    "df = pd.DataFrame()\n",
    "\n",
    "df['payout'] = [150 if x >= .5 else 50 for x in rng.random(number_bets)]\n",
    "df['profit'] = df['payout'] - bet_cost\n",
    "df.head()"
   ]
  },
  {
   "cell_type": "code",
   "execution_count": null,
   "metadata": {},
   "outputs": [],
   "source": []
  },
  {
   "cell_type": "markdown",
   "metadata": {},
   "source": [
    "Here we can "
   ]
  },
  {
   "cell_type": "code",
   "execution_count": 4,
   "metadata": {},
   "outputs": [
    {
     "data": {
      "text/plain": [
       "0.09354676145574696"
      ]
     },
     "execution_count": 4,
     "metadata": {},
     "output_type": "execute_result"
    }
   ],
   "source": [
    "# Geometric\n",
    "sims = rng.normal(.1,.12,(100000,40))\n",
    "temp = sims + 1\n",
    "endings = temp.prod(axis=1)**(1/40)\n",
    "e = endings-1\n",
    "\n",
    "e.mean()\n"
   ]
  },
  {
   "cell_type": "code",
   "execution_count": 39,
   "metadata": {},
   "outputs": [
    {
     "data": {
      "text/plain": [
       "0.10001168435098773"
      ]
     },
     "execution_count": 39,
     "metadata": {},
     "output_type": "execute_result"
    }
   ],
   "source": [
    "# Arithmetic\n",
    "sims = rng.normal(.1,.12,(100000,40))\n",
    "temp = sims + 1\n",
    "endings = temp.prod(axis=1).mean()\n",
    "e = endings**(1/40)\n",
    "e = e-1\n",
    "e\n"
   ]
  }
 ],
 "metadata": {
  "kernelspec": {
   "display_name": "Python 3.9.5 64-bit",
   "language": "python",
   "name": "python3"
  },
  "language_info": {
   "codemirror_mode": {
    "name": "ipython",
    "version": 3
   },
   "file_extension": ".py",
   "mimetype": "text/x-python",
   "name": "python",
   "nbconvert_exporter": "python",
   "pygments_lexer": "ipython3",
   "version": "3.9.5"
  },
  "orig_nbformat": 4,
  "vscode": {
   "interpreter": {
    "hash": "cf92aa13fedf815d5c8dd192b8d835913fde3e8bc926b2a0ad6cc74ef2ba3ca2"
   }
  }
 },
 "nbformat": 4,
 "nbformat_minor": 2
}

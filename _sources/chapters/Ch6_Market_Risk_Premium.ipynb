{
 "cells": [
  {
   "cell_type": "markdown",
   "source": [
    "* Single Investment\r\n",
    "* Multiple Investments, a \"Market\" where you can buy and sell\r\n",
    "* Each investment payoff broken into sub components\r\n",
    "  * The shared payout\r\n",
    "  * Individual Payout\r\n",
    "* Now change it so that there are different types of bets: each having different exposures to the shared payout and different probabilities for its individual payout.\r\n",
    "* Introduce the same concepts on a continuous, instead of discrete framework\r\n",
    "* Compare to Stock Market Risk premium\r\n",
    "* Time horizon?"
   ],
   "metadata": {}
  },
  {
   "cell_type": "markdown",
   "source": [
    "# A Gamler's Approach to Investing"
   ],
   "metadata": {}
  },
  {
   "cell_type": "code",
   "execution_count": 1,
   "source": [
    "import numpy as np\r\n",
    "import pandas as pd\r\n",
    "from matplotlib import pyplot as plt\r\n",
    "\r\n",
    "rng = np.random.default_rng()\r\n",
    "np.random.seed(42)\r\n"
   ],
   "outputs": [],
   "metadata": {}
  },
  {
   "cell_type": "markdown",
   "source": [
    "You are offered the opportunity to buy into a bet on a coin toss with two possible payoffs: heads, you are paid $150, tails, you are paid $50. How much would you be willing to pay to participate in this bet?\r\n",
    "\r\n",
    "I would argue that there is no obvious answer and in fact no \"right\" answer. It clearly depends on your personal preferences, but perhaps we can build a framework for how one could think about this opportunity. The first step is to establish the *bounds* for the bet: what is the least you would be willing to pay and the most. The least you would be willing to pay is $50 because you are guaranteed to win at least this much and the maximum you would be willing to pay is $150 because this is the most you could possibly win. Unfortunately, there is still a rather large gap of uncertainty regarding the amount to pay. \r\n",
    "\r\n",
    "Most people who have taken a basic stats course will find themselves instinctually drawn towards the mean in answer to the amount they would pay. The mean or average is ubiquitous. We see it everywhere and it is the default metric you will hear for just about any situation where numerical justification is put forth.  But what is the mean actually telling us and is it a justifiable answer for our specific scenario?\r\n",
    "\r\n",
    "\r\n",
    "The mean or \"expected value\" simply tells us what the long term average of a particular even is and is given by the formula:\r\n",
    "$$E(X) = \\sum_{i=0}^n x_iP(x_i)$$\r\n",
    "\r\n",
    "For the bet in question, the expected value is:\r\n",
    "     $$.5*150 +.5*50 = 100$$\r\n",
    "\r\n",
    "What is this telling us? That if we were able to make this bet repeatedly, our average payoff would approach 100."
   ],
   "metadata": {}
  },
  {
   "cell_type": "code",
   "execution_count": 2,
   "source": [
    "df = pd.DataFrame()\r\n",
    "number_of_bets = 1_000_000\r\n",
    "# payouts = [150 if x >= .5 else 50 for x in rng.random(number_of_bets)]\r\n",
    "# np.mean(payouts)\r\n",
    "\r\n",
    "df['payouts'] = [150 if x >= .5 else 50 for x in rng.random(number_of_bets)]\r\n",
    "df['cum_mean'] = np.cumsum(df['payouts'])/range(1, number_of_bets+1)\r\n",
    "# plt.plot(df['cum_mean'])\r\n"
   ],
   "outputs": [],
   "metadata": {}
  },
  {
   "cell_type": "markdown",
   "source": [
    "That is certainly interesting, but does it help us make a decision in this particular bet right now? Keeping in mind that we are not making this bet an infinite amount of times, but only once."
   ],
   "metadata": {}
  },
  {
   "cell_type": "markdown",
   "source": [
    "I think a reasonable starting point is for you to say that for each one you would be willing to pay the Expected Value:\r\n",
    "$E(Bet) = 100$\r\n",
    "\r\n"
   ],
   "metadata": {}
  },
  {
   "cell_type": "code",
   "execution_count": 3,
   "source": [
    "number_bets = 100\r\n",
    "bet_cost = 98\r\n",
    "df = pd.DataFrame()\r\n",
    "\r\n",
    "df['payout'] = [150 if x >= .5 else 50 for x in rng.random(number_bets)]\r\n",
    "df['profit'] = df['payout'] - bet_cost\r\n",
    "df.head()"
   ],
   "outputs": [
    {
     "output_type": "execute_result",
     "data": {
      "text/plain": [
       "   payout  profit\n",
       "0     150      52\n",
       "1     150      52\n",
       "2     150      52\n",
       "3      50     -48\n",
       "4      50     -48"
      ],
      "text/html": [
       "<div>\n",
       "<style scoped>\n",
       "    .dataframe tbody tr th:only-of-type {\n",
       "        vertical-align: middle;\n",
       "    }\n",
       "\n",
       "    .dataframe tbody tr th {\n",
       "        vertical-align: top;\n",
       "    }\n",
       "\n",
       "    .dataframe thead th {\n",
       "        text-align: right;\n",
       "    }\n",
       "</style>\n",
       "<table border=\"1\" class=\"dataframe\">\n",
       "  <thead>\n",
       "    <tr style=\"text-align: right;\">\n",
       "      <th></th>\n",
       "      <th>payout</th>\n",
       "      <th>profit</th>\n",
       "    </tr>\n",
       "  </thead>\n",
       "  <tbody>\n",
       "    <tr>\n",
       "      <th>0</th>\n",
       "      <td>150</td>\n",
       "      <td>52</td>\n",
       "    </tr>\n",
       "    <tr>\n",
       "      <th>1</th>\n",
       "      <td>150</td>\n",
       "      <td>52</td>\n",
       "    </tr>\n",
       "    <tr>\n",
       "      <th>2</th>\n",
       "      <td>150</td>\n",
       "      <td>52</td>\n",
       "    </tr>\n",
       "    <tr>\n",
       "      <th>3</th>\n",
       "      <td>50</td>\n",
       "      <td>-48</td>\n",
       "    </tr>\n",
       "    <tr>\n",
       "      <th>4</th>\n",
       "      <td>50</td>\n",
       "      <td>-48</td>\n",
       "    </tr>\n",
       "  </tbody>\n",
       "</table>\n",
       "</div>"
      ]
     },
     "metadata": {},
     "execution_count": 3
    }
   ],
   "metadata": {}
  },
  {
   "cell_type": "code",
   "execution_count": null,
   "source": [],
   "outputs": [],
   "metadata": {}
  },
  {
   "cell_type": "markdown",
   "source": [
    "Here we can "
   ],
   "metadata": {}
  },
  {
   "cell_type": "code",
   "execution_count": 4,
   "source": [
    "# Geometric\r\n",
    "sims = rng.normal(.1,.12,(100000,40))\r\n",
    "temp = sims + 1\r\n",
    "endings = temp.prod(axis=1)**(1/40)\r\n",
    "e = endings-1\r\n",
    "\r\n",
    "e.mean()\r\n"
   ],
   "outputs": [
    {
     "output_type": "execute_result",
     "data": {
      "text/plain": [
       "0.09354676145574696"
      ]
     },
     "metadata": {},
     "execution_count": 4
    }
   ],
   "metadata": {}
  },
  {
   "cell_type": "code",
   "execution_count": 39,
   "source": [
    "# Arithmetic\r\n",
    "sims = rng.normal(.1,.12,(100000,40))\r\n",
    "temp = sims + 1\r\n",
    "endings = temp.prod(axis=1).mean()\r\n",
    "e = endings**(1/40)\r\n",
    "e = e-1\r\n",
    "e\r\n"
   ],
   "outputs": [
    {
     "output_type": "execute_result",
     "data": {
      "text/plain": [
       "0.10001168435098773"
      ]
     },
     "metadata": {},
     "execution_count": 39
    }
   ],
   "metadata": {}
  }
 ],
 "metadata": {
  "orig_nbformat": 4,
  "language_info": {
   "name": "python",
   "version": "3.9.5",
   "mimetype": "text/x-python",
   "codemirror_mode": {
    "name": "ipython",
    "version": 3
   },
   "pygments_lexer": "ipython3",
   "nbconvert_exporter": "python",
   "file_extension": ".py"
  },
  "kernelspec": {
   "name": "python3",
   "display_name": "Python 3.9.5 64-bit"
  },
  "interpreter": {
   "hash": "2647ea34e536f865ab67ff9ddee7fd78773d956cec0cab53c79b32cd10da5d83"
  }
 },
 "nbformat": 4,
 "nbformat_minor": 2
}